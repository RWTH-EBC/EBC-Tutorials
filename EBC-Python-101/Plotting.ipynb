{
 "cells": [
  {
   "cell_type": "markdown",
   "metadata": {},
   "source": [
    "# Plotting with Python\n",
    "This is the corresponding Jupyter Notebook part to the EBC Python Tutorial section Advanced concepts/Create plots\n",
    "\n",
    "**Note:** This tutorial has been tested for python 2.7, 3.5, 3.6 and 3.7. You need to install the following packages before using it. If you don't have these packages installed, you will receive an `ImportError`:\n",
    "- `matplotlib`\n",
    "- `pandas`\n",
    "- `numpy`\n",
    "- `Cycler`\n",
    "\n",
    "## Configuring the plot layout\n",
    "In the first few sections we told you to take some time to set up your figures. Instead of altering the rcParams file directly, we would suggest, that you create a dictionary of values that you would like to alter and call this explicitly for your plots. There are a lot more parameters in the rcParams file, but you can probably stick with the default values.\n",
    "\n",
    "Below are the definitions for several different variations and an example why it is great to use them."
   ]
  },
  {
   "cell_type": "code",
   "execution_count": null,
   "metadata": {},
   "outputs": [],
   "source": [
    "%matplotlib notebook\n",
    "from cycler import cycler\n",
    "import numpy as np\n",
    "import pandas as pd\n",
    "import pylab as plt\n",
    "import locale"
   ]
  },
  {
   "cell_type": "markdown",
   "metadata": {},
   "source": [
    "Use desired decimal point. Set via `locale` package and tell matplotlib later to use the locale settings via `axes.formatter.use_locale = True`."
   ]
  },
  {
   "cell_type": "code",
   "execution_count": null,
   "metadata": {},
   "outputs": [],
   "source": [
    "lang_identifier = 'german'\n",
    "try:\n",
    "    locale.setlocale(locale.LC_NUMERIC, lang_identifier) # or 'english'. Important for axes.formatter\n",
    "except:\n",
    "    locale.setlocale(locale.LC_NUMERIC, '')  # Use default system locale setting if selected one is not available\n",
    "print(locale.getlocale(locale.LC_NUMERIC))"
   ]
  },
  {
   "cell_type": "code",
   "execution_count": null,
   "metadata": {},
   "outputs": [],
   "source": [
    "latex_base = {'figure.figsize'   : [6.220,3.5]    # figure size in inches\n",
    "                ,'figure.dpi'       : 80      # figure dots per inch\n",
    "                # Eigenschaften der Achsen\n",
    "                ,'axes.linewidth'      : 0.5     # edge linewidth\n",
    "                ,'axes.grid'           : False   # display grid or not\n",
    "                ,'axes.titlesize'      : 11.0   # fontsize of the axes title\n",
    "                ,'axes.labelsize'      : 11.0  # fontsize of the x any y labels\n",
    "                ,'axes.prop_cycle'    : (cycler('color',['#EC635C', '#4B81C4', '#F49961', '#8768B4', '#B45955','#CB74F4','#6EBB96']))  # color cycle for plot lines\n",
    "                ,'axes.formatter.use_locale': True  # use decimal point or comma depending on locale.setlocale()\n",
    "                # Eigenschaften der Tick-Marker\n",
    "                ,'xtick.labelsize'      : 11.0 # fontsize of the tick labels\n",
    "                ,'ytick.labelsize'      : 11.0 # fontsize of the tick labels\n",
    "                # Eigenschaften der Linienplots\n",
    "                ,'lines.linewidth'   : 1.5     # line width in points\n",
    "                ,'lines.linestyle'   : '-'       # solid line\n",
    "                ,'lines.marker'      : None    # the default marker\n",
    "                ,'lines.markeredgewidth'  : 1.5     # the line width around the marker symbol\n",
    "                # Eigenschaften der Flächen\n",
    "                ,'patch.linewidth'        : 1.5     # edge width in points\n",
    "                ,'patch.facecolor'        : '#EC635C'\n",
    "                ,'patch.edgecolor'        : '#EC635C'\n",
    "                # Eigenschaften der Legende\n",
    "                ,'legend.fontsize'      : 11.0\n",
    "                ,'legend.borderpad'     : 0.5    # border whitespace in fontsize units\n",
    "                ,'legend.markerscale'   : 1.0    # the relative size of legend markers vs. original\n",
    "                ,'legend.frameon'       : True   # whether or not to draw a frame around legend\n",
    "                # Eigenschaften der Schriften\n",
    "                ,'font.family'         : 'serif'\n",
    "                ,'font.stretch'        : 'normal'\n",
    "                ,'font.size'           : 11.0\n",
    "                ,'font.sans-serif'     : ['Arial', 'Helvetica','sans-serif']\n",
    "                # Eigenschaften fürs Speichern\n",
    "                ,'savefig.dpi'         : 600      # figure dots per inch\n",
    "                ,'savefig.format'      : 'pdf'      # png, ps, pdf, svg\n",
    "                }\n",
    "\n",
    "# Create another dictionary from the old one for larger figures.\n",
    "latex_twothird = latex_base.copy() # You need to use the copy method, otherwise you will alter both dictionaries\n",
    "latex_twothird['figure.figsize'] = [6.220, 5.5]\n",
    "\n",
    "# And one for fullsize figures\n",
    "latex_fullpage = latex_base.copy()\n",
    "latex_fullpage['figure.figsize'] = [6.220, 7.87]\n",
    "\n",
    "# And here is one for Powerpoint presentations with fancy colors. Note that the save-format is also changed from pdf (which is\n",
    "# vecorized and thus great for use in latex) to png because older version of PowerPoint can not handle pdfs\n",
    "pp_figure = latex_base.copy()\n",
    "pp_figure['axes.prop_cycle'] = (cycler('color',['#ff33cc', '#79f169', '#F49961', '#8768B4', '#B45955','#CB74F4','#6EBB96']))  # color cycle for plot lines\n",
    "pp_figure['figure.figsize'] = [10,5.91]    # figure size in inches\n",
    "pp_figure['axes.linewidth'] = 1     # edge linewidth\n",
    "pp_figure['axes.titlesize'] =  18.0   # fontsize of the axes title\n",
    "pp_figure['axes.labelsize'] = 18.0  # fontsize of the x any y labels\n",
    "pp_figure['xtick.major.size'] = 6      # major tick size in points\n",
    "pp_figure['xtick.minor.size'] = 3      # minor tick size in points\n",
    "pp_figure['xtick.major.width'] = 1    # major tick width in points\n",
    "pp_figure['xtick.minor.width'] = 1    # minor tick width in points\n",
    "pp_figure['xtick.labelsize'] = 18.0 # fontsize of the tick labels\n",
    "pp_figure['ytick.major.size'] = 6      # major tick size in points\n",
    "pp_figure['ytick.minor.size'] = 3      # minor tick size in points\n",
    "pp_figure['ytick.major.width'] = 1    # major tick width in points\n",
    "pp_figure['ytick.minor.width'] = 1    # minor tick width in points\n",
    "pp_figure['ytick.labelsize'] = 18.0 # fontsize of the tick labels\n",
    "pp_figure['lines.linewidth'] = 2     # line width in points\n",
    "pp_figure['lines.markeredgewidth'] = 2     # the line width around the marker symbol\n",
    "pp_figure['lines.markersize'] = 8            # markersize, in points\n",
    "pp_figure['patch.linewidth'] = 2.0     # edge width in points\n",
    "pp_figure['legend.fontsize'] = 18.0\n",
    "pp_figure['font.size'] = 18.0\n",
    "pp_figure['font.family'] = 'sans-serif'\n",
    "pp_figure['savefig.dpi'] = 150      # figure dots per inch\n",
    "pp_figure['savefig.format'] = 'png'      # png, ps, pdf, svg"
   ]
  },
  {
   "cell_type": "markdown",
   "metadata": {},
   "source": [
    "Create a plot function and plot figures."
   ]
  },
  {
   "cell_type": "code",
   "execution_count": null,
   "metadata": {},
   "outputs": [],
   "source": [
    "def create_plot(): \n",
    "    #Yes, this function plots several things in one and it does not seperate layout form content creation\n",
    "    # - but this function will not be used for anything else, so this is fine here.\n",
    "    #Generate some  Data\n",
    "    x = np.arange(0,6*np.pi, 0.1)\n",
    "    y1 = np.sin(x)\n",
    "    y2 = np.cos(x)\n",
    "    \n",
    "    #create output\n",
    "    fig, ax = plt.subplots()\n",
    "    plt.plot(x,y1)\n",
    "    plt.plot(x,y2)\n",
    "    ax.set_title('Sine and Cosine')\n",
    "    ax.set_xlabel('X-values')\n",
    "    ax.set_ylabel('Y-values')\n",
    "    leg = ax.legend(['Sine', 'Cosine'])\n",
    "    return fig, ax, leg\n",
    "             \n",
    "# Set dictionaries and plot results\n",
    "plt.rcParams.update(latex_base)\n",
    "fig1, ax1, leg1 = create_plot()\n",
    "plt.rcParams.update(latex_twothird)\n",
    "fig2, ax2, leg2 = create_plot()\n",
    "plt.rcParams.update(pp_figure)\n",
    "fig3, ax3, leg3 = create_plot()"
   ]
  },
  {
   "cell_type": "markdown",
   "metadata": {},
   "source": [
    "Quite obviously you can easily change the appearance of your figure without too much trouble if you set up your layout dictionaries before.\n",
    "We would suggest to\n",
    "\n",
    "- keep three Latex dictionaries, one for figures a bit smaller than half the textheight of your doccument, to allow the placement of two figures on one page, one larger figure if you need some more space for your plot but where text still fits beneath and one full size figure\n",
    "- One dictionary for Powerpoint presentations. Make the lines a bit thicker, increase the font size (16pt is EBC minimum for presentations!), use beamer save, saturated colores (i.e. Not the green in the figure above)\n",
    "\n",
    "You may have realized that the frame around the legend is to thick compared to the axes. This is because as of now there is no rcParams value for this (this may be changed with release of matplotlib 2.0). You can use this piece of code to fix this:\n",
    "\n",
    "``` python\n",
    "frame = leg.get_frame()\n",
    "axes_linewidth = ax.spines['bottom']\n",
    "frame.set_linewidth(axes_linewidth._linewidth)\n",
    "```\n",
    "\n",
    "with ax and leg beeing the correct handles to your axes and legend artist. This corrections is automatically applied if you use our ebcplot-tools and saving methods (more on this later on)."
   ]
  },
  {
   "cell_type": "code",
   "execution_count": null,
   "metadata": {},
   "outputs": [],
   "source": [
    "fig, ax, leg = create_plot()\n",
    "frame = leg.get_frame()\n",
    "axes_linewidth = ax.spines['bottom']\n",
    "frame.set_linewidth(axes_linewidth._linewidth)"
   ]
  },
  {
   "cell_type": "markdown",
   "metadata": {},
   "source": [
    "Notice that applying this code is easily possible because our plotting function returned the figure, axes and legend handles of our plots."
   ]
  },
  {
   "cell_type": "markdown",
   "metadata": {
    "collapsed": true
   },
   "source": [
    "## Ensure the reusability of plots\n",
    "In this section we will show some examples how you should design your functions to create figures. This will ensure that a reonfiguration can be done easily later on.\n",
    "\n",
    "As an idea, we try to plot three different data sets and try to point out the adavantages of an intelligent plotting approach. But first, let as create our three datasets:"
   ]
  },
  {
   "cell_type": "code",
   "execution_count": null,
   "metadata": {},
   "outputs": [],
   "source": [
    "x = np.arange(0,3,0.1)\n",
    "y1 = np.e ** x\n",
    "y2 = (np.e ** x) + (np.e * x) * (np.random.ranf(len(x)) * 2 -1) / 5. # Same function with some random deviations\n",
    "y3 = (np.e ** x) + (np.e * x) * (np.random.ranf(len(x)) * 2 -1) / 10.\n",
    "\n"
   ]
  },
  {
   "cell_type": "markdown",
   "metadata": {},
   "source": [
    "The worst thing you could do right now would be a simple function that just creates your whole plot. It will work, maybe more effortless than with a more sophisticated approach, but you'll run into problems if you would like to alter something of your code.\n",
    "\n"
   ]
  },
  {
   "cell_type": "code",
   "execution_count": null,
   "metadata": {
    "scrolled": false
   },
   "outputs": [],
   "source": [
    "def plot_complete_figure():\n",
    "    fig, ax = plt.subplots()\n",
    "    ax.plot(x,y1)\n",
    "    ax.plot(x,y2)\n",
    "    ax.plot(x,y3)\n",
    "    ax.set_xlabel('x Values')\n",
    "    ax.set_ylabel('Meaningless y Values')\n",
    "    ax.set_title('Meaningless data')\n",
    "\n",
    "plot_complete_figure()"
   ]
  },
  {
   "cell_type": "markdown",
   "metadata": {},
   "source": [
    "Obviously, that code works fine, if you want more or less data, you could add those or comment them.\n",
    "\n",
    "Using a reusable method, the code would look like this:"
   ]
  },
  {
   "cell_type": "code",
   "execution_count": null,
   "metadata": {
    "scrolled": false
   },
   "outputs": [],
   "source": [
    "def plot_func(data_x, data_y, axes_handle):\n",
    "    axes_handle.plot(data_x, data_y)\n",
    "    axes_handle.set_xlabel('x Values')\n",
    "    axes_handle.set_ylabel('Meaningless y Values')\n",
    "    axes_handle.set_title('Meaningless data')\n",
    "\n",
    "fig, ax = plt.subplots()\n",
    "plot_func(x,y1, ax)\n",
    "plot_func(x,y2, ax)\n",
    "plot_func(x,y3, ax)\n"
   ]
  },
  {
   "cell_type": "markdown",
   "metadata": {},
   "source": [
    "It does not seem to make a difference, maybe the first method is even simpler. But if you want to change the layout, or try something different, it gets more difficult to change that with the \"does everything\" code. For example if you try to plot the first value as a reference and compare them side by side. Using the first version, you would have to completely rewrite your function, otherwise it would not work."
   ]
  },
  {
   "cell_type": "code",
   "execution_count": null,
   "metadata": {},
   "outputs": [],
   "source": [
    "# Rewriting  version 1\n",
    "def plot_complete_figure_side_by_side():\n",
    "    fig, ax = plt.subplots(1,2)\n",
    "    ax[0].plot(x,y1)\n",
    "    ax[0].plot(x,y2)\n",
    "    ax[1].plot(x,y1)\n",
    "    ax[1].plot(x,y3)\n",
    "    for a in ax:\n",
    "        a.set_xlabel('x Values')\n",
    "        a.set_ylabel('Meaningless y Values')\n",
    "        a.set_title('Meaningless data')\n",
    "\n",
    "plot_complete_figure_side_by_side()\n",
    "\n",
    "# Reusing version 2\n",
    "fig, ax = plt.subplots(1,2)\n",
    "plot_func(x,y1, ax[0])\n",
    "plot_func(x,y2, ax[0])\n",
    "plot_func(x,y1, ax[1])\n",
    "plot_func(x,y3, ax[1])"
   ]
  },
  {
   "cell_type": "markdown",
   "metadata": {},
   "source": [
    "Separating the content creation from the layout and breaking plotting down into reusable functions can save you time. Although the advantages of this example may not be overwhelming, with respect to object oriented programming or more complex methods, the advantages increase. Especially if you have several plotting methods and you want to compare them side-by-side. If your function always creates a whole figure this is not easily possible, but if you first create an axes grid as needed and than fill every axes with the plotting function of your choice, you are very flexible what you can show.\n",
    "\n",
    "If you want to compose a figure out of different plots, we would encourage you to do this directly in Python and not stitch them together afterwards in LaTeX, because this will again result in badly scaled fonts and lines. Matplotlib provides several [grid methods](http://matplotlib.org/api/gridspec_api.html#matplotlib.gridspec.GridSpec) to assist you to create good looking multi-plots.\n",
    "\n",
    "\n",
    "Imagine a plotting function that does some calculations beforehand and plots the result. If you need the results of the calculation, they are lost. If you had written two functions, one for the calculations, a second one for the plotting, you could use the first function to retrieve the results and use them for some other stuff, e.g. a table, than just plotting. Remember: A function should do only __one__ thing."
   ]
  },
  {
   "cell_type": "code",
   "execution_count": null,
   "metadata": {},
   "outputs": [],
   "source": []
  }
 ],
 "metadata": {
  "kernelspec": {
   "display_name": "Python 3 (ipykernel)",
   "language": "python",
   "name": "python3"
  },
  "language_info": {
   "codemirror_mode": {
    "name": "ipython",
    "version": 3
   },
   "file_extension": ".py",
   "mimetype": "text/x-python",
   "name": "python",
   "nbconvert_exporter": "python",
   "pygments_lexer": "ipython3",
   "version": "3.8.10"
  }
 },
 "nbformat": 4,
 "nbformat_minor": 1
}
