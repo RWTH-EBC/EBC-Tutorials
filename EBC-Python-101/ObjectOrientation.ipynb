{
 "cells": [
  {
   "cell_type": "markdown",
   "metadata": {},
   "source": [
    "# Python at EBC\n",
    "\n",
    "This notebook contains several examples covering the issues from the tutorial.\n",
    "\n",
    "\n",
    "**Note:** This tutorial has been tested for python 2.7, 3.5, 3.6 and 3.7. You need to install the following packages before using it. If you don't have these packages installed, you will receive an `ImportError`:\n",
    "- `matplotlib`\n",
    "- `pandas`\n",
    "- `openpyxl`\n",
    "- `xlrd`"
   ]
  },
  {
   "cell_type": "markdown",
   "metadata": {},
   "source": [
    "## Usage of object orientation for efficient evaluation\n",
    "Object Orientation allows you to re-use your code easily. Especially if you are comparing things that create often similar types of data, using object orientation is of great adavantage. Getting the head around object orientation is a bit more complicated and needs some more work in the planing stage, but it is totally worth it.\n",
    "\n",
    "In the next steps we present a base class to keep simulation or measurement data"
   ]
  },
  {
   "cell_type": "markdown",
   "metadata": {},
   "source": [
    "### Creating a Base Class and use Inheritance"
   ]
  },
  {
   "cell_type": "code",
   "execution_count": null,
   "metadata": {},
   "outputs": [],
   "source": [
    "%matplotlib notebook\n",
    "import os.path\n",
    "import pandas as pd\n",
    "import pylab as plt\n",
    "\n",
    "class BaseData(object):\n",
    "    ''' Keep simulation or measurement data\n",
    "    \n",
    "        Parameters\n",
    "        -----------\n",
    "        filename : str\n",
    "            path to filename\n",
    "            \n",
    "        name : str, optional [None]\n",
    "            It is always a good idea to label your data, if None, name will\n",
    "            be determined from filename\n",
    "        \n",
    "        Attributes\n",
    "        -----------\n",
    "        data : pd.DataFrame\n",
    "            data read from result file, c\n",
    "            \n",
    "        savedir : str\n",
    "            path were results/figures etc. should be saved, defaults to 'D:/'\n",
    "    '''\n",
    "    \n",
    "    def __init__(self, filename, name=None):\n",
    "        self.filename = filename\n",
    "        self.savedir = 'D:/'\n",
    "        self.data = self.read_data()\n",
    "        #If no name is provided, the name will be created from the filename\n",
    "        if name is None:\n",
    "            _dummy = (os.path.basename(filename).split('.')[:-1]) # Get the filename without suffix\n",
    "            self.name = ''.join(_dummy) # Rebuild a string from resulting list\n",
    "        else:\n",
    "            self.name = name\n",
    "               \n",
    "    def read_data(self):\n",
    "        ''' Read data from input file\n",
    "        \n",
    "            Returns:\n",
    "            ----------\n",
    "            pd.DataFrame\n",
    "        '''\n",
    "        data = pd.read_csv(self.filename, header=0)\n",
    "        return data\n",
    "    \n",
    "    def plot_data(self, label=None, fig=None, ax=None):\n",
    "        ''' Plot the data into a figure\n",
    "        \n",
    "            Parameters:\n",
    "            ----------\n",
    "            label : str, optional [self.name]\n",
    "                Identifier for this function (used in the legend)\n",
    "            fig : matplotlib.figure instance, optional [None]\n",
    "                Figure to plot into, will be created if None\n",
    "            ax : matplotlib.axes instance, optional [None]\n",
    "                Axes to plot into, will be created if None\n",
    "        \n",
    "            Returns:\n",
    "            ----------\n",
    "            None\n",
    "            \n",
    "            Notes:\n",
    "            ----------\n",
    "            In the EBC-Python Library exist an advanced helper to create figures and axes\n",
    "            (the first few lines in this code), see base_functions.reusable_helpers.helper_figures\n",
    "        \n",
    "        '''\n",
    "        if fig is None and ax is None:\n",
    "            fig, ax = plt.subplots()\n",
    "        elif fig is None:\n",
    "            fig = ax.get_figure()\n",
    "        elif ax is None:\n",
    "            ax = fig.add_axes()\n",
    "        if label is None:\n",
    "            label = self.name\n",
    "        self.data.plot(ax=ax, label=label)\n",
    "        ax.set_title('Power vs. travel' )\n",
    "        ax.set_ylabel('Power in kW')\n",
    "        ax.legend()\n",
    "        \n",
    "a = BaseData('Referenz.csv')\n",
    "b = BaseData('Messung1.csv')"
   ]
  },
  {
   "cell_type": "markdown",
   "metadata": {},
   "source": [
    "Directly below the class definition is the docstring, every method of the class also contains a docstring. The function \\__init\\__ is run when an instance of the class is created. Note that the data are read from the file on initialization, because the read_data() method is called.\n",
    "\n",
    "There exist also a third method, plot_data, that does exactly what you would expect. The first six lines of the code make sure that you can use the method to plot into an already existing figure, or into a complete new figure.\n",
    "\n",
    "If you now want to plot two measurements into one axes, this can be easily solved by creating one pair of axes and provide them as optional parameter to the plot function"
   ]
  },
  {
   "cell_type": "code",
   "execution_count": null,
   "metadata": {},
   "outputs": [],
   "source": [
    "fig, ax = plt.subplots() # Create empty figure with on pair of axes\n",
    "a.plot_data('Referenz',fig=fig, ax=ax)# Usage of optional parameters\n",
    "b.plot_data(fig=fig, ax=ax) # If no label is provided, the class's .name attribute will be used"
   ]
  },
  {
   "cell_type": "markdown",
   "metadata": {},
   "source": [
    "The code above allows reading different measurement results, as long as they are saved in the same way. But now imagine, while the measurements were ongoing, the saving format was changed, for example instead of saving csv-Files, now excel files are saved.\n",
    "\n",
    "The data are the same, all methods could still be used, expect the reading function. Object Orientation now allows to inherit from an object and replace the `read_data` method by a customized version. Therefore below a new class is derived from the BaseData class. Every method is inherited from BaseData (including the `__item___` method). Only the `read_data` method is replaced."
   ]
  },
  {
   "cell_type": "code",
   "execution_count": null,
   "metadata": {},
   "outputs": [],
   "source": [
    "class NewData(BaseData):\n",
    "    ''' Modified Version of BaseData, only reading Method is changed\n",
    "    '''\n",
    "          \n",
    "    def read_data(self):\n",
    "        ''' Read data from input file\n",
    "        \n",
    "            Returns:\n",
    "            ----------\n",
    "            pd.DataFrame\n",
    "        '''\n",
    "        data = pd.read_excel(self.filename, index_col = 0)\n",
    "        data=data.iloc[:,0] # Transform pd.DataFrame to pd.Series\n",
    "        return data\n",
    "c = NewData('Messung2.xlsx')\n",
    "c.plot_data()"
   ]
  },
  {
   "cell_type": "markdown",
   "metadata": {},
   "source": [
    "Although the plot function is not explicitly listed, it also works for the new class."
   ]
  },
  {
   "cell_type": "markdown",
   "metadata": {},
   "source": [
    "It is now easy to keep your single measurements in one class. If you want to add additional analysis methods, add them to the class and every measurement can be analysed easily in the same way. \n",
    "\n",
    "A next step would be to compare different measurement results. For this another class is created, a comparison class that keeps your measurements and provides methods to compare them."
   ]
  },
  {
   "cell_type": "markdown",
   "metadata": {},
   "source": [
    "### Use a wrapping class to compare results"
   ]
  },
  {
   "cell_type": "code",
   "execution_count": null,
   "metadata": {},
   "outputs": [],
   "source": [
    "class Comparison(object):\n",
    "    \"\"\" Compare results of the Measurements contained in BaseData and derived classes\n",
    "    \n",
    "        Parameters\n",
    "        ----------\n",
    "        None\n",
    "        \n",
    "        Attributes\n",
    "        ----------\n",
    "        members : list of BaseData instances (and derived), \n",
    "            if you add an result by the add_result method, it is added as an member to this list\n",
    "            \n",
    "        members_by_name : dict of BaseData instances\n",
    "            also added by calling the add_result method, key will be the classes .name\n",
    "            \n",
    "        reference : BaseData instance\n",
    "            a reference measurement (e.g. for scaling)\n",
    "    \"\"\"\n",
    "    def __init__(self):\n",
    "        self.members = [] # Keep a list of the added results (in contrast to the dictionary below, this will keep the order the data were added)\n",
    "        self.members_by_name = {} # If you would like to access them by name directly\n",
    "        self.reference = None\n",
    "        \n",
    "    def add_result(self, obj):\n",
    "        \"\"\" Add results of one the measurement the attribute `members`.\n",
    "\n",
    "        Parameters:\n",
    "        ----------\n",
    "        obj : Instance of BaseData (or inherited)\n",
    "\n",
    "        Returns:\n",
    "        ----------\n",
    "        None\n",
    "\n",
    "        \"\"\"\n",
    "        # make sure it is the appropriate format\n",
    "        assert isinstance(obj, BaseData), 'Obj must be an instance of BaseData, but got {0}'.format(type(obj))\n",
    "        # don't add two measurements with the same name\n",
    "        assert obj.name not in list(self.members_by_name.keys()), 'Measurement with name {0} already exists'.format(obj.name)\n",
    "        self.members.append(obj)\n",
    "        self.members_by_name[obj.name] = obj\n",
    "        \n",
    "    def set_reference(self, obj):\n",
    "        \"\"\" Define an reference value\n",
    "        \n",
    "        Parameters\n",
    "        ----------\n",
    "        obj : Instance of BaseData(or inherited)\n",
    "        \n",
    "        \"\"\"\n",
    "        assert isinstance(obj, BaseData), 'Obj must be an instance of BaseData, but got {0}'.format(type(obj))\n",
    "        self.reference = obj\n",
    "        \n",
    "        \n",
    "    def plot_relative(self, result, fig, ax):\n",
    "        ''' Plot the measured data relative to the reference data\n",
    "        \n",
    "            Parameters:\n",
    "            ----------\n",
    "            result : BaseData object\n",
    "                The result that should be plotted\n",
    "                \n",
    "            fig : matplotlib.figure instance\n",
    "                Figure to plot into, will be created if None\n",
    "                \n",
    "            ax : matplotlib.axes instance\n",
    "                Axes to plot into, will be created if None\n",
    "        '''\n",
    "        rel = result.data / self.reference.data\n",
    "        rel.plot(ax=ax, label = result.name)\n",
    "        ax.set_ylabel('Relative Leistung zur Referenz')\n",
    "        ax.legend()\n",
    "\n",
    "# Daten zur Klasse hinzufügen\n",
    "all_results = Comparison()\n",
    "all_results.add_result(a)\n",
    "# all_results.add_result(a) # Adding this a second time is prevented by the assert statement, uncomment to test\n",
    "all_results.add_result(b)\n",
    "all_results.add_result(c)\n",
    "all_results.set_reference(all_results.members_by_name['Referenz'])\n",
    "print(all_results.members)\n",
    "\n",
    "# Alle Ergebnisse in einen Plot\n",
    "fig, ax = plt.subplots()\n",
    "for member in all_results.members:\n",
    "    all_results.plot_relative(member, fig, ax)\n",
    "    \n",
    "# Alternativ als Plot nebeneinander\n",
    "fig, ax = plt.subplots(2, sharex=True)\n",
    "for i, member in enumerate(all_results.members[1:]):\n",
    "    all_results.plot_relative(member, fig, ax[i])\n",
    "ax[0].set_xlabel('') # Doppeltes Label an der X-Achse entfernen"
   ]
  },
  {
   "cell_type": "markdown",
   "metadata": {
    "collapsed": true
   },
   "source": [
    "A comparison class is usefull because all measurements can easily be accessed. Adding and deleting results is easily possible (although an explicit delete method should be created so that .members and .members_by_name are always the same).\n",
    "\n",
    "### Possible improvements\n",
    "Python provides several [magic members](http://rafekettler.com/magicmethods.html), which can be usefull to improve your code. To keep an overview of your results using the `__str__` method is suggested."
   ]
  },
  {
   "cell_type": "code",
   "execution_count": null,
   "metadata": {},
   "outputs": [],
   "source": [
    "class AdvancedBaseData(BaseData):\n",
    "    def __str__(self):\n",
    "        return 'Class {0}, named {1} from file {2}'.format(type(self), self.name, os.path.abspath(self.filename))\n",
    "        \n",
    "d = AdvancedBaseData('Messung1.csv')\n",
    "print(d)\n"
   ]
  },
  {
   "cell_type": "markdown",
   "metadata": {},
   "source": [
    "Also the Comparison class can be further enhanced by using some magic members. Allowing to iterate over the different simulations or a direct access to one result can be added by the magic members. At this moment, the next three statements will fail (uncomment them, to test):"
   ]
  },
  {
   "cell_type": "code",
   "execution_count": null,
   "metadata": {},
   "outputs": [],
   "source": [
    "#for result in all_results:\n",
    "#    print(result)\n",
    "    \n",
    "#all_results[1]\n",
    "\n",
    "#len(all_results)"
   ]
  },
  {
   "cell_type": "markdown",
   "metadata": {},
   "source": [
    "Adding some magic members will solve this problem"
   ]
  },
  {
   "cell_type": "code",
   "execution_count": null,
   "metadata": {},
   "outputs": [],
   "source": [
    "class AdvancedComparison(Comparison):\n",
    "    def __len__(self):\n",
    "        return len(self.members)\n",
    "    \n",
    "    def __iter__(self):\n",
    "        for item in self.members:\n",
    "            yield(item)\n",
    "            \n",
    "    def __getitem__(self, i):\n",
    "        return self.members[i]\n",
    "    \n",
    "ac = AdvancedComparison()\n",
    "ac.add_result(AdvancedBaseData('Referenz.csv', 'Reference'))\n",
    "ac.add_result(AdvancedBaseData('Messung1.csv', 'Measurement 1'))\n",
    "ac.add_result(c)\n",
    "fig, ax = plt.subplots()\n",
    "for result in ac:\n",
    "    result.plot_data(ax=ax)\n",
    "    \n",
    "print('Zweites Element im Vergleichsobjekt: ' + str(ac[1]))\n",
    "\n",
    "len(ac)"
   ]
  },
  {
   "cell_type": "markdown",
   "metadata": {},
   "source": [
    "### Some remarks\n",
    "- If you ask yourself, if a method should be stored in a Comparison Class or class that just keeps your data, we suggest the following rule of thumb: If the method can be self-contained  in its data class, keep it there (e.g. the `plot_data` method), combining them to a comparing plot is easily done (see usage of the iteration through the `__iter__` method above). If it contains already some comparison, for example the plot relative to a reference, put it into your Comparison class\n",
    "\n",
    "- We used assert statements to make sure that only allowed classes are added to the comparison class. Some people would oppose this method and suggest you use [duck typing](https://en.wikipedia.org/wiki/Duck_typing). Either way you go, it will result in an Error sooner or later if you add the wrong data"
   ]
  },
  {
   "cell_type": "code",
   "execution_count": null,
   "metadata": {},
   "outputs": [],
   "source": []
  }
 ],
 "metadata": {
  "kernelspec": {
   "display_name": "Python 3",
   "language": "python",
   "name": "python3"
  },
  "language_info": {
   "codemirror_mode": {
    "name": "ipython",
    "version": 3
   },
   "file_extension": ".py",
   "mimetype": "text/x-python",
   "name": "python",
   "nbconvert_exporter": "python",
   "pygments_lexer": "ipython3",
   "version": "3.5.6"
  }
 },
 "nbformat": 4,
 "nbformat_minor": 1
}
